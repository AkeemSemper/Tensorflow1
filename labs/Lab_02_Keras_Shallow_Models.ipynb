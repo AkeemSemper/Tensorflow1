{
 "cells": [
  {
   "cell_type": "markdown",
   "metadata": {},
   "source": [
    "#  Keras Intro: Shallow Models\n",
    "\n",
    "Keras Documentation: https://keras.io\n",
    "\n",
    "In this notebook we explore how to use Keras to implement 2 traditional Machine Learning models:\n",
    "- **Linear Regression** to predict continuous data\n",
    "- **Logistic Regression** to predict categorical data"
   ]
  },
  {
   "cell_type": "markdown",
   "metadata": {},
   "source": [
    "## Linear Regression\n",
    "\n",
    "We start from the simplest regression model possible: **Linear Regression** with 1 feature in input and one value in output. Predict the weight of a person from their height."
   ]
  },
  {
   "cell_type": "code",
   "execution_count": 1,
   "metadata": {},
   "outputs": [],
   "source": [
    "%matplotlib inline\n",
    "import matplotlib.pyplot as plt\n",
    "import pandas as pd\n",
    "import numpy as np"
   ]
  },
  {
   "cell_type": "markdown",
   "metadata": {},
   "source": [
    "### 0. Load data"
   ]
  },
  {
   "cell_type": "code",
   "execution_count": 3,
   "metadata": {},
   "outputs": [],
   "source": [
    "df = pd.read_csv('../data/weight-height.csv')"
   ]
  },
  {
   "cell_type": "code",
   "execution_count": 4,
   "metadata": {},
   "outputs": [
    {
     "data": {
      "text/html": [
       "<div>\n",
       "<style scoped>\n",
       "    .dataframe tbody tr th:only-of-type {\n",
       "        vertical-align: middle;\n",
       "    }\n",
       "\n",
       "    .dataframe tbody tr th {\n",
       "        vertical-align: top;\n",
       "    }\n",
       "\n",
       "    .dataframe thead th {\n",
       "        text-align: right;\n",
       "    }\n",
       "</style>\n",
       "<table border=\"1\" class=\"dataframe\">\n",
       "  <thead>\n",
       "    <tr style=\"text-align: right;\">\n",
       "      <th></th>\n",
       "      <th>Gender</th>\n",
       "      <th>Height</th>\n",
       "      <th>Weight</th>\n",
       "    </tr>\n",
       "  </thead>\n",
       "  <tbody>\n",
       "    <tr>\n",
       "      <th>0</th>\n",
       "      <td>Male</td>\n",
       "      <td>73.847017</td>\n",
       "      <td>241.893563</td>\n",
       "    </tr>\n",
       "    <tr>\n",
       "      <th>1</th>\n",
       "      <td>Male</td>\n",
       "      <td>68.781904</td>\n",
       "      <td>162.310473</td>\n",
       "    </tr>\n",
       "    <tr>\n",
       "      <th>2</th>\n",
       "      <td>Male</td>\n",
       "      <td>74.110105</td>\n",
       "      <td>212.740856</td>\n",
       "    </tr>\n",
       "    <tr>\n",
       "      <th>3</th>\n",
       "      <td>Male</td>\n",
       "      <td>71.730978</td>\n",
       "      <td>220.042470</td>\n",
       "    </tr>\n",
       "    <tr>\n",
       "      <th>4</th>\n",
       "      <td>Male</td>\n",
       "      <td>69.881796</td>\n",
       "      <td>206.349801</td>\n",
       "    </tr>\n",
       "  </tbody>\n",
       "</table>\n",
       "</div>"
      ],
      "text/plain": [
       "  Gender     Height      Weight\n",
       "0   Male  73.847017  241.893563\n",
       "1   Male  68.781904  162.310473\n",
       "2   Male  74.110105  212.740856\n",
       "3   Male  71.730978  220.042470\n",
       "4   Male  69.881796  206.349801"
      ]
     },
     "execution_count": 4,
     "metadata": {},
     "output_type": "execute_result"
    }
   ],
   "source": [
    "df.head()"
   ]
  },
  {
   "cell_type": "code",
   "execution_count": 5,
   "metadata": {},
   "outputs": [
    {
     "data": {
      "text/plain": [
       "<matplotlib.axes._subplots.AxesSubplot at 0x1149be518>"
      ]
     },
     "execution_count": 5,
     "metadata": {},
     "output_type": "execute_result"
    },
    {
     "data": {
      "image/png": "[encoded data removed]",
      "text/plain": [
       "<Figure size 432x288 with 1 Axes>"
      ]
     },
     "metadata": {
      "needs_background": "light"
     },
     "output_type": "display_data"
    }
   ],
   "source": [
    "df.plot(kind='scatter',\n",
    "        x='Height',\n",
    "        y='Weight',\n",
    "        title='Weight and Height in adults')"
   ]
  },
  {
   "cell_type": "markdown",
   "metadata": {},
   "source": [
    "### 1. Create Train/Test split"
   ]
  },
  {
   "cell_type": "code",
   "execution_count": 6,
   "metadata": {},
   "outputs": [],
   "source": [
    "from sklearn.model_selection import train_test_split"
   ]
  },
  {
   "cell_type": "code",
   "execution_count": 7,
   "metadata": {},
   "outputs": [],
   "source": [
    "X = df[['Height']].values\n",
    "y = df['Weight'].values\n",
    "\n",
    "X_train, X_test, y_train, y_test = train_test_split(X, y, \n",
    "    test_size = 0.3, random_state=0)"
   ]
  },
  {
   "cell_type": "markdown",
   "metadata": {},
   "source": [
    "### 2. Train Linear Regression Model"
   ]
  },
  {
   "cell_type": "code",
   "execution_count": 12,
   "metadata": {},
   "outputs": [],
   "source": [
    "from tensorflow.keras.models import Sequential\n",
    "from tensorflow.keras.layers import Dense\n",
    "from tensorflow.keras.optimizers import Adam, SGD"
   ]
  },
  {
   "cell_type": "code",
   "execution_count": 13,
   "metadata": {},
   "outputs": [
    {
     "name": "stdout",
     "output_type": "stream",
     "text": [
      "WARNING:tensorflow:From /Users/fra/anaconda3/lib/python3.7/site-packages/tensorflow/python/ops/resource_variable_ops.py:435: colocate_with (from tensorflow.python.framework.ops) is deprecated and will be removed in a future version.\n",
      "Instructions for updating:\n",
      "Colocations handled automatically by placer.\n"
     ]
    }
   ],
   "source": [
    "model = Sequential([\n",
    "    Dense(1, input_shape=(1,))\n",
    "])"
   ]
  },
  {
   "cell_type": "code",
   "execution_count": 14,
   "metadata": {},
   "outputs": [
    {
     "name": "stdout",
     "output_type": "stream",
     "text": [
      "_________________________________________________________________\n",
      "Layer (type)                 Output Shape              Param #   \n",
      "=================================================================\n",
      "dense (Dense)                (None, 1)                 2         \n",
      "=================================================================\n",
      "Total params: 2\n",
      "Trainable params: 2\n",
      "Non-trainable params: 0\n",
      "_________________________________________________________________\n"
     ]
    }
   ],
   "source": [
    "model.summary()"
   ]
  },
  {
   "cell_type": "code",
   "execution_count": 15,
   "metadata": {},
   "outputs": [
    {
     "name": "stdout",
     "output_type": "stream",
     "text": [
      "WARNING:tensorflow:From /Users/fra/anaconda3/lib/python3.7/site-packages/tensorflow/python/keras/utils/losses_utils.py:170: to_float (from tensorflow.python.ops.math_ops) is deprecated and will be removed in a future version.\n",
      "Instructions for updating:\n",
      "Use tf.cast instead.\n"
     ]
    }
   ],
   "source": [
    "model.compile(Adam(lr=0.9), 'mean_squared_error')"
   ]
  },
  {
   "cell_type": "code",
   "execution_count": 16,
   "metadata": {},
   "outputs": [
    {
     "name": "stdout",
     "output_type": "stream",
     "text": [
      "WARNING:tensorflow:From /Users/fra/anaconda3/lib/python3.7/site-packages/tensorflow/python/ops/math_ops.py:3066: to_int32 (from tensorflow.python.ops.math_ops) is deprecated and will be removed in a future version.\n",
      "Instructions for updating:\n",
      "Use tf.cast instead.\n",
      "Epoch 1/40\n",
      "7000/7000 [==============================] - 1s 188us/sample - loss: 1271.8317\n",
      "Epoch 2/40\n",
      "7000/7000 [==============================] - 0s 54us/sample - loss: 578.5196\n",
      "Epoch 3/40\n",
      "7000/7000 [==============================] - 0s 58us/sample - loss: 552.1037\n",
      "Epoch 4/40\n",
      "7000/7000 [==============================] - 0s 57us/sample - loss: 521.0012\n",
      "Epoch 5/40\n",
      "7000/7000 [==============================] - 0s 54us/sample - loss: 506.1394\n",
      "Epoch 6/40\n",
      "7000/7000 [==============================] - 0s 59us/sample - loss: 469.7560\n",
      "Epoch 7/40\n",
      "7000/7000 [==============================] - 0s 60us/sample - loss: 440.2444\n",
      "Epoch 8/40\n",
      "7000/7000 [==============================] - 0s 71us/sample - loss: 399.3435\n",
      "Epoch 9/40\n",
      "7000/7000 [==============================] - 1s 76us/sample - loss: 378.6829\n",
      "Epoch 10/40\n",
      "7000/7000 [==============================] - 0s 65us/sample - loss: 363.6683\n",
      "Epoch 11/40\n",
      "7000/7000 [==============================] - 0s 61us/sample - loss: 329.8632\n",
      "Epoch 12/40\n",
      "7000/7000 [==============================] - 0s 58us/sample - loss: 292.0297\n",
      "Epoch 13/40\n",
      "7000/7000 [==============================] - 0s 56us/sample - loss: 295.2897\n",
      "Epoch 14/40\n",
      "7000/7000 [==============================] - 0s 70us/sample - loss: 275.4649\n",
      "Epoch 15/40\n",
      "7000/7000 [==============================] - 1s 87us/sample - loss: 262.7428\n",
      "Epoch 16/40\n",
      "7000/7000 [==============================] - 1s 84us/sample - loss: 257.7664\n",
      "Epoch 17/40\n",
      "7000/7000 [==============================] - 1s 83us/sample - loss: 240.34110s - loss: 241.00\n",
      "Epoch 18/40\n",
      "7000/7000 [==============================] - 0s 58us/sample - loss: 220.0459\n",
      "Epoch 19/40\n",
      "7000/7000 [==============================] - 0s 56us/sample - loss: 228.1391\n",
      "Epoch 20/40\n",
      "7000/7000 [==============================] - 0s 54us/sample - loss: 199.5320\n",
      "Epoch 21/40\n",
      "7000/7000 [==============================] - 0s 58us/sample - loss: 200.8773\n",
      "Epoch 22/40\n",
      "7000/7000 [==============================] - 1s 75us/sample - loss: 195.9155\n",
      "Epoch 23/40\n",
      "7000/7000 [==============================] - 1s 74us/sample - loss: 187.1731\n",
      "Epoch 24/40\n",
      "7000/7000 [==============================] - 0s 58us/sample - loss: 187.0319\n",
      "Epoch 25/40\n",
      "7000/7000 [==============================] - 0s 58us/sample - loss: 190.6034\n",
      "Epoch 26/40\n",
      "7000/7000 [==============================] - 0s 61us/sample - loss: 179.56180s - loss: 180.2\n",
      "Epoch 27/40\n",
      "7000/7000 [==============================] - 0s 69us/sample - loss: 178.5759\n",
      "Epoch 28/40\n",
      "7000/7000 [==============================] - 0s 62us/sample - loss: 184.6223\n",
      "Epoch 29/40\n",
      "7000/7000 [==============================] - 0s 63us/sample - loss: 189.9703\n",
      "Epoch 30/40\n",
      "7000/7000 [==============================] - 0s 62us/sample - loss: 186.1682\n",
      "Epoch 31/40\n",
      "7000/7000 [==============================] - 1s 102us/sample - loss: 182.9924\n",
      "Epoch 32/40\n",
      "7000/7000 [==============================] - 1s 84us/sample - loss: 183.8270\n",
      "Epoch 33/40\n",
      "7000/7000 [==============================] - 0s 68us/sample - loss: 178.7017\n",
      "Epoch 34/40\n",
      "7000/7000 [==============================] - 0s 55us/sample - loss: 178.1640\n",
      "Epoch 35/40\n",
      "7000/7000 [==============================] - 0s 56us/sample - loss: 186.0708\n",
      "Epoch 36/40\n",
      "7000/7000 [==============================] - 1s 73us/sample - loss: 172.6658\n",
      "Epoch 37/40\n",
      "7000/7000 [==============================] - 1s 85us/sample - loss: 184.2051\n",
      "Epoch 38/40\n",
      "7000/7000 [==============================] - 1s 77us/sample - loss: 175.49780s - loss: 176\n",
      "Epoch 39/40\n",
      "7000/7000 [==============================] - 0s 58us/sample - loss: 183.3672\n",
      "Epoch 40/40\n",
      "7000/7000 [==============================] - 0s 56us/sample - loss: 182.2230\n"
     ]
    },
    {
     "data": {
      "text/plain": [
       "<tensorflow.python.keras.callbacks.History at 0x1a3833ce80>"
      ]
     },
     "execution_count": 16,
     "metadata": {},
     "output_type": "execute_result"
    }
   ],
   "source": [
    "model.fit(X_train, y_train, epochs=40)"
   ]
  },
  {
   "cell_type": "markdown",
   "metadata": {},
   "source": [
    "### 3. Evaluate Model Performance"
   ]
  },
  {
   "cell_type": "code",
   "execution_count": 17,
   "metadata": {},
   "outputs": [],
   "source": [
    "from sklearn.metrics import r2_score"
   ]
  },
  {
   "cell_type": "code",
   "execution_count": 18,
   "metadata": {},
   "outputs": [],
   "source": [
    "y_train_pred = model.predict(X_train).ravel()\n",
    "y_test_pred = model.predict(X_test).ravel()"
   ]
  },
  {
   "cell_type": "code",
   "execution_count": 19,
   "metadata": {},
   "outputs": [
    {
     "name": "stdout",
     "output_type": "stream",
     "text": [
      "The R2 score on the Train set is:\t0.852\n",
      "The R2 score on the Test set is:\t0.850\n"
     ]
    }
   ],
   "source": [
    "print(\"The R2 score on the Train set is:\\t{:0.3f}\".format(r2_score(y_train, y_train_pred)))\n",
    "print(\"The R2 score on the Test set is:\\t{:0.3f}\".format(r2_score(y_test, y_test_pred)))"
   ]
  },
  {
   "cell_type": "code",
   "execution_count": 20,
   "metadata": {},
   "outputs": [
    {
     "data": {
      "text/plain": [
       "[<matplotlib.lines.Line2D at 0x1a3857a898>]"
      ]
     },
     "execution_count": 20,
     "metadata": {},
     "output_type": "execute_result"
    },
    {
     "data": {
      "image/png": "[encoded data removed]",
      "text/plain": [
       "<Figure size 432x288 with 1 Axes>"
      ]
     },
     "metadata": {
      "needs_background": "light"
     },
     "output_type": "display_data"
    }
   ],
   "source": [
    "df.plot(kind='scatter',\n",
    "        x='Height',\n",
    "        y='Weight',\n",
    "        title='Weight and Height in adults')\n",
    "plt.plot(X_test, y_test_pred, color='red')"
   ]
  },
  {
   "cell_type": "code",
   "execution_count": 21,
   "metadata": {},
   "outputs": [],
   "source": [
    "W, B = model.get_weights()"
   ]
  },
  {
   "cell_type": "code",
   "execution_count": 22,
   "metadata": {},
   "outputs": [
    {
     "data": {
      "text/plain": [
       "array([[7.5378714]], dtype=float32)"
      ]
     },
     "execution_count": 22,
     "metadata": {},
     "output_type": "execute_result"
    }
   ],
   "source": [
    "W"
   ]
  },
  {
   "cell_type": "code",
   "execution_count": 23,
   "metadata": {},
   "outputs": [
    {
     "data": {
      "text/plain": [
       "array([-340.67526], dtype=float32)"
      ]
     },
     "execution_count": 23,
     "metadata": {},
     "output_type": "execute_result"
    }
   ],
   "source": [
    "B"
   ]
  },
  {
   "cell_type": "markdown",
   "metadata": {},
   "source": [
    "# Logistic Regression\n",
    "\n",
    "We start from the simplest classification model possible: **Logistic Regression** with one feature in input and one **binary output**. Predict the if a user will purchase based on the time spent on a website."
   ]
  },
  {
   "cell_type": "markdown",
   "metadata": {},
   "source": [
    "### 0. Load Data"
   ]
  },
  {
   "cell_type": "code",
   "execution_count": 25,
   "metadata": {},
   "outputs": [],
   "source": [
    "df = pd.read_csv('../data/user_visit_duration.csv')"
   ]
  },
  {
   "cell_type": "code",
   "execution_count": 26,
   "metadata": {},
   "outputs": [
    {
     "data": {
      "text/html": [
       "<div>\n",
       "<style scoped>\n",
       "    .dataframe tbody tr th:only-of-type {\n",
       "        vertical-align: middle;\n",
       "    }\n",
       "\n",
       "    .dataframe tbody tr th {\n",
       "        vertical-align: top;\n",
       "    }\n",
       "\n",
       "    .dataframe thead th {\n",
       "        text-align: right;\n",
       "    }\n",
       "</style>\n",
       "<table border=\"1\" class=\"dataframe\">\n",
       "  <thead>\n",
       "    <tr style=\"text-align: right;\">\n",
       "      <th></th>\n",
       "      <th>Time (min)</th>\n",
       "      <th>Buy</th>\n",
       "    </tr>\n",
       "  </thead>\n",
       "  <tbody>\n",
       "    <tr>\n",
       "      <th>0</th>\n",
       "      <td>2.000000</td>\n",
       "      <td>0</td>\n",
       "    </tr>\n",
       "    <tr>\n",
       "      <th>1</th>\n",
       "      <td>0.683333</td>\n",
       "      <td>0</td>\n",
       "    </tr>\n",
       "    <tr>\n",
       "      <th>2</th>\n",
       "      <td>3.216667</td>\n",
       "      <td>1</td>\n",
       "    </tr>\n",
       "    <tr>\n",
       "      <th>3</th>\n",
       "      <td>0.900000</td>\n",
       "      <td>0</td>\n",
       "    </tr>\n",
       "    <tr>\n",
       "      <th>4</th>\n",
       "      <td>1.533333</td>\n",
       "      <td>1</td>\n",
       "    </tr>\n",
       "  </tbody>\n",
       "</table>\n",
       "</div>"
      ],
      "text/plain": [
       "   Time (min)  Buy\n",
       "0    2.000000    0\n",
       "1    0.683333    0\n",
       "2    3.216667    1\n",
       "3    0.900000    0\n",
       "4    1.533333    1"
      ]
     },
     "execution_count": 26,
     "metadata": {},
     "output_type": "execute_result"
    }
   ],
   "source": [
    "df.head()"
   ]
  },
  {
   "cell_type": "code",
   "execution_count": 27,
   "metadata": {},
   "outputs": [
    {
     "data": {
      "text/plain": [
       "<matplotlib.axes._subplots.AxesSubplot at 0x1027d8ef0>"
      ]
     },
     "execution_count": 27,
     "metadata": {},
     "output_type": "execute_result"
    },
    {
     "data": {
      "image/png": "[encoded data removed]",
      "text/plain": [
       "<Figure size 432x288 with 1 Axes>"
      ]
     },
     "metadata": {
      "needs_background": "light"
     },
     "output_type": "display_data"
    }
   ],
   "source": [
    "df.plot(kind='scatter', x='Time (min)', y='Buy')"
   ]
  },
  {
   "cell_type": "markdown",
   "metadata": {},
   "source": [
    "### 1. Create Train/Test split"
   ]
  },
  {
   "cell_type": "code",
   "execution_count": 28,
   "metadata": {},
   "outputs": [],
   "source": [
    "X = df[['Time (min)']].values\n",
    "y = df['Buy'].values"
   ]
  },
  {
   "cell_type": "code",
   "execution_count": 29,
   "metadata": {},
   "outputs": [],
   "source": [
    "X_train, X_test, y_train, y_test = train_test_split(X, y, \n",
    "    test_size = 0.3, random_state=0)"
   ]
  },
  {
   "cell_type": "markdown",
   "metadata": {},
   "source": [
    "### 2. Train Logistic Regression Model"
   ]
  },
  {
   "cell_type": "code",
   "execution_count": 31,
   "metadata": {},
   "outputs": [],
   "source": [
    "model = Sequential([\n",
    "    Dense(1, input_shape=(1,), activation='sigmoid')\n",
    "])"
   ]
  },
  {
   "cell_type": "code",
   "execution_count": 32,
   "metadata": {},
   "outputs": [
    {
     "name": "stdout",
     "output_type": "stream",
     "text": [
      "_________________________________________________________________\n",
      "Layer (type)                 Output Shape              Param #   \n",
      "=================================================================\n",
      "dense_1 (Dense)              (None, 1)                 2         \n",
      "=================================================================\n",
      "Total params: 2\n",
      "Trainable params: 2\n",
      "Non-trainable params: 0\n",
      "_________________________________________________________________\n"
     ]
    }
   ],
   "source": [
    "model.summary()"
   ]
  },
  {
   "cell_type": "code",
   "execution_count": 33,
   "metadata": {},
   "outputs": [],
   "source": [
    "model.compile(SGD(lr=0.5), 'binary_crossentropy', metrics=['accuracy'])"
   ]
  },
  {
   "cell_type": "code",
   "execution_count": 34,
   "metadata": {},
   "outputs": [
    {
     "name": "stdout",
     "output_type": "stream",
     "text": [
      "Epoch 1/40\n",
      "70/70 [==============================] - 1s 11ms/sample - loss: 0.7140 - acc: 0.4857\n",
      "Epoch 2/40\n",
      "70/70 [==============================] - 0s 363us/sample - loss: 0.6282 - acc: 0.5857\n",
      "Epoch 3/40\n",
      "70/70 [==============================] - 0s 345us/sample - loss: 0.6098 - acc: 0.6286\n",
      "Epoch 4/40\n",
      "70/70 [==============================] - 0s 297us/sample - loss: 0.5935 - acc: 0.5857\n",
      "Epoch 5/40\n",
      "70/70 [==============================] - 0s 294us/sample - loss: 0.5708 - acc: 0.7000\n",
      "Epoch 6/40\n",
      "70/70 [==============================] - 0s 256us/sample - loss: 0.5665 - acc: 0.7143\n",
      "Epoch 7/40\n",
      "70/70 [==============================] - 0s 239us/sample - loss: 0.5609 - acc: 0.7000\n",
      "Epoch 8/40\n",
      "70/70 [==============================] - 0s 244us/sample - loss: 0.5436 - acc: 0.7857\n",
      "Epoch 9/40\n",
      "70/70 [==============================] - 0s 229us/sample - loss: 0.6338 - acc: 0.5286\n",
      "Epoch 10/40\n",
      "70/70 [==============================] - 0s 187us/sample - loss: 0.5205 - acc: 0.7714\n",
      "Epoch 11/40\n",
      "70/70 [==============================] - 0s 321us/sample - loss: 0.5141 - acc: 0.8000\n",
      "Epoch 12/40\n",
      "70/70 [==============================] - 0s 430us/sample - loss: 0.4975 - acc: 0.8143\n",
      "Epoch 13/40\n",
      "70/70 [==============================] - 0s 284us/sample - loss: 0.4871 - acc: 0.7714\n",
      "Epoch 14/40\n",
      "70/70 [==============================] - 0s 346us/sample - loss: 0.4865 - acc: 0.7714\n",
      "Epoch 15/40\n",
      "70/70 [==============================] - 0s 325us/sample - loss: 0.4756 - acc: 0.7857\n",
      "Epoch 16/40\n",
      "70/70 [==============================] - 0s 411us/sample - loss: 0.4729 - acc: 0.7429\n",
      "Epoch 17/40\n",
      "70/70 [==============================] - 0s 341us/sample - loss: 0.4800 - acc: 0.7857\n",
      "Epoch 18/40\n",
      "70/70 [==============================] - 0s 140us/sample - loss: 0.4665 - acc: 0.7857\n",
      "Epoch 19/40\n",
      "70/70 [==============================] - 0s 232us/sample - loss: 0.4649 - acc: 0.7714\n",
      "Epoch 20/40\n",
      "70/70 [==============================] - 0s 243us/sample - loss: 0.4647 - acc: 0.7857\n",
      "Epoch 21/40\n",
      "70/70 [==============================] - 0s 560us/sample - loss: 0.4628 - acc: 0.7714\n",
      "Epoch 22/40\n",
      "70/70 [==============================] - 0s 526us/sample - loss: 0.4583 - acc: 0.7714\n",
      "Epoch 23/40\n",
      "70/70 [==============================] - 0s 352us/sample - loss: 0.4526 - acc: 0.7857\n",
      "Epoch 24/40\n",
      "70/70 [==============================] - 0s 279us/sample - loss: 0.4499 - acc: 0.7571\n",
      "Epoch 25/40\n",
      "70/70 [==============================] - 0s 179us/sample - loss: 0.4480 - acc: 0.7714\n",
      "Epoch 26/40\n",
      "70/70 [==============================] - 0s 238us/sample - loss: 0.4466 - acc: 0.7714\n",
      "Epoch 27/40\n",
      "70/70 [==============================] - 0s 251us/sample - loss: 0.4447 - acc: 0.7857\n",
      "Epoch 28/40\n",
      "70/70 [==============================] - 0s 225us/sample - loss: 0.4491 - acc: 0.7857\n",
      "Epoch 29/40\n",
      "70/70 [==============================] - 0s 213us/sample - loss: 0.4387 - acc: 0.7857\n",
      "Epoch 30/40\n",
      "70/70 [==============================] - 0s 161us/sample - loss: 0.4409 - acc: 0.7857\n",
      "Epoch 31/40\n",
      "70/70 [==============================] - 0s 218us/sample - loss: 0.4688 - acc: 0.7429\n",
      "Epoch 32/40\n",
      "70/70 [==============================] - 0s 169us/sample - loss: 0.4409 - acc: 0.7714\n",
      "Epoch 33/40\n",
      "70/70 [==============================] - 0s 210us/sample - loss: 0.4344 - acc: 0.7857\n",
      "Epoch 34/40\n",
      "70/70 [==============================] - 0s 355us/sample - loss: 0.4335 - acc: 0.7857\n",
      "Epoch 35/40\n",
      "70/70 [==============================] - 0s 234us/sample - loss: 0.4447 - acc: 0.7286\n",
      "Epoch 36/40\n",
      "70/70 [==============================] - 0s 333us/sample - loss: 0.4317 - acc: 0.7714\n",
      "Epoch 37/40\n",
      "70/70 [==============================] - 0s 210us/sample - loss: 0.4318 - acc: 0.7714\n",
      "Epoch 38/40\n",
      "70/70 [==============================] - 0s 520us/sample - loss: 0.4299 - acc: 0.7714\n",
      "Epoch 39/40\n",
      "70/70 [==============================] - 0s 148us/sample - loss: 0.4293 - acc: 0.7714\n",
      "Epoch 40/40\n",
      "70/70 [==============================] - 0s 1ms/sample - loss: 0.4307 - acc: 0.7857\n"
     ]
    },
    {
     "data": {
      "text/plain": [
       "<tensorflow.python.keras.callbacks.History at 0x114ab6710>"
      ]
     },
     "execution_count": 34,
     "metadata": {},
     "output_type": "execute_result"
    }
   ],
   "source": [
    "model.fit(X_train, y_train, epochs=40)"
   ]
  },
  {
   "cell_type": "code",
   "execution_count": 35,
   "metadata": {},
   "outputs": [
    {
     "data": {
      "text/plain": [
       "<matplotlib.legend.Legend at 0x114cfaba8>"
      ]
     },
     "execution_count": 35,
     "metadata": {},
     "output_type": "execute_result"
    },
    {
     "data": {
      "image/png": "[encoded data removed]",
      "text/plain": [
       "<Figure size 432x288 with 1 Axes>"
      ]
     },
     "metadata": {
      "needs_background": "light"
     },
     "output_type": "display_data"
    }
   ],
   "source": [
    "ax = df.plot(kind='scatter', x='Time (min)', y='Buy',\n",
    "             title='Purchase behavior VS time spent on site')\n",
    "\n",
    "t = np.linspace(0, 4)\n",
    "ax.plot(t, model.predict(t), color='orange')\n",
    "\n",
    "plt.legend(['model', 'data'])"
   ]
  },
  {
   "cell_type": "markdown",
   "metadata": {},
   "source": [
    "### 3. Evaluate Model Performance"
   ]
  },
  {
   "cell_type": "markdown",
   "metadata": {},
   "source": [
    "#### Accuracy"
   ]
  },
  {
   "cell_type": "code",
   "execution_count": 36,
   "metadata": {},
   "outputs": [],
   "source": [
    "from sklearn.metrics import accuracy_score"
   ]
  },
  {
   "cell_type": "code",
   "execution_count": 37,
   "metadata": {},
   "outputs": [],
   "source": [
    "y_train_pred = model.predict_classes(X_train)\n",
    "y_test_pred = model.predict_classes(X_test)"
   ]
  },
  {
   "cell_type": "code",
   "execution_count": 38,
   "metadata": {},
   "outputs": [
    {
     "name": "stdout",
     "output_type": "stream",
     "text": [
      "The train accuracy score is 0.786\n",
      "The test accuracy score is 0.933\n"
     ]
    }
   ],
   "source": [
    "print(\"The train accuracy score is {:0.3f}\".format(accuracy_score(y_train, y_train_pred)))\n",
    "print(\"The test accuracy score is {:0.3f}\".format(accuracy_score(y_test, y_test_pred)))"
   ]
  },
  {
   "cell_type": "markdown",
   "metadata": {},
   "source": [
    "#### Confusion Matrix & Classification Report"
   ]
  },
  {
   "cell_type": "code",
   "execution_count": 39,
   "metadata": {},
   "outputs": [],
   "source": [
    "from sklearn.metrics import confusion_matrix"
   ]
  },
  {
   "cell_type": "code",
   "execution_count": 40,
   "metadata": {
    "scrolled": false
   },
   "outputs": [
    {
     "data": {
      "text/plain": [
       "array([[15,  1],\n",
       "       [ 1, 13]])"
      ]
     },
     "execution_count": 40,
     "metadata": {},
     "output_type": "execute_result"
    }
   ],
   "source": [
    "confusion_matrix(y_test, y_test_pred)"
   ]
  },
  {
   "cell_type": "code",
   "execution_count": 41,
   "metadata": {},
   "outputs": [],
   "source": [
    "def pretty_confusion_matrix(y_true, y_pred, labels=[\"False\", \"True\"]):\n",
    "    cm = confusion_matrix(y_true, y_pred)\n",
    "    pred_labels = ['Predicted '+ l for l in labels]\n",
    "    df = pd.DataFrame(cm, index=labels, columns=pred_labels)\n",
    "    return df"
   ]
  },
  {
   "cell_type": "code",
   "execution_count": 42,
   "metadata": {},
   "outputs": [
    {
     "data": {
      "text/html": [
       "<div>\n",
       "<style scoped>\n",
       "    .dataframe tbody tr th:only-of-type {\n",
       "        vertical-align: middle;\n",
       "    }\n",
       "\n",
       "    .dataframe tbody tr th {\n",
       "        vertical-align: top;\n",
       "    }\n",
       "\n",
       "    .dataframe thead th {\n",
       "        text-align: right;\n",
       "    }\n",
       "</style>\n",
       "<table border=\"1\" class=\"dataframe\">\n",
       "  <thead>\n",
       "    <tr style=\"text-align: right;\">\n",
       "      <th></th>\n",
       "      <th>Predicted Not Buy</th>\n",
       "      <th>Predicted Buy</th>\n",
       "    </tr>\n",
       "  </thead>\n",
       "  <tbody>\n",
       "    <tr>\n",
       "      <th>Not Buy</th>\n",
       "      <td>15</td>\n",
       "      <td>1</td>\n",
       "    </tr>\n",
       "    <tr>\n",
       "      <th>Buy</th>\n",
       "      <td>1</td>\n",
       "      <td>13</td>\n",
       "    </tr>\n",
       "  </tbody>\n",
       "</table>\n",
       "</div>"
      ],
      "text/plain": [
       "         Predicted Not Buy  Predicted Buy\n",
       "Not Buy                 15              1\n",
       "Buy                      1             13"
      ]
     },
     "execution_count": 42,
     "metadata": {},
     "output_type": "execute_result"
    }
   ],
   "source": [
    "pretty_confusion_matrix(y_test, y_test_pred, ['Not Buy', 'Buy'])"
   ]
  },
  {
   "cell_type": "code",
   "execution_count": 43,
   "metadata": {},
   "outputs": [],
   "source": [
    "from sklearn.metrics import classification_report"
   ]
  },
  {
   "cell_type": "code",
   "execution_count": 44,
   "metadata": {},
   "outputs": [
    {
     "name": "stdout",
     "output_type": "stream",
     "text": [
      "              precision    recall  f1-score   support\n",
      "\n",
      "           0       0.94      0.94      0.94        16\n",
      "           1       0.93      0.93      0.93        14\n",
      "\n",
      "   micro avg       0.93      0.93      0.93        30\n",
      "   macro avg       0.93      0.93      0.93        30\n",
      "weighted avg       0.93      0.93      0.93        30\n",
      "\n"
     ]
    }
   ],
   "source": [
    "print(classification_report(y_test, y_test_pred))"
   ]
  },
  {
   "cell_type": "markdown",
   "metadata": {},
   "source": [
    "## Exercise"
   ]
  },
  {
   "cell_type": "markdown",
   "metadata": {},
   "source": [
    "- try changing the value of the learning rate (lr) in the optimizer, re-initialize the model and re-train. How does its performance change?"
   ]
  },
  {
   "cell_type": "code",
   "execution_count": null,
   "metadata": {
    "collapsed": true
   },
   "outputs": [],
   "source": []
  }
 ],
 "metadata": {
  "kernelspec": {
   "display_name": "Python 3",
   "language": "python",
   "name": "python3"
  },
  "language_info": {
   "codemirror_mode": {
    "name": "ipython",
    "version": 3
   },
   "file_extension": ".py",
   "mimetype": "text/x-python",
   "name": "python",
   "nbconvert_exporter": "python",
   "pygments_lexer": "ipython3",
   "version": "3.7.3"
  }
 },
 "nbformat": 4,
 "nbformat_minor": 2
}
